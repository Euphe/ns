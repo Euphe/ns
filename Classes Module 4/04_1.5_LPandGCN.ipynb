{
 "cells": [
  {
   "cell_type": "markdown",
   "metadata": {},
   "source": [
    "# Link Prediction and Node Classification\n",
    "\n",
    "_Deadline : есть_\n",
    "\n",
    "In this lab, we try to evaluate accuracy of Link prediction versus Graph Convolutional Networks.\n",
    "\n",
    "Up to now, we do not know a proper way to use GCN methods in Jupyter. The [GitHub repository](https://github.com/tkipf/gcn) of [Thomas Kipf](https://tkipf.github.io/) contains an implementation of their algorithm but it is not included in any package to our knowledge... Rocky road ahead.\n",
    "\n",
    "### Task 1\n",
    "\n",
    "Grab data.\n",
    "\n",
    "A(nother) group of gentle people gathers data: the [LINQS team](https://linqs.soe.ucsc.edu/). On [this page](https://linqs.soe.ucsc.edu/data), look for Cora data set and download it. From both files ```cora.cites``` and ```cora.contents```, create the graph of citations and \n",
    "\n",
    "- $A$, an N by N adjacency matrix (N is the number of nodes),\n",
    "- $F$, an N by D feature matrix (D is the number of features per node), and\n",
    "- $C$, an N by E binary label matrix (E is the number of classes).\n",
    "\n",
    "Those will be needed for GCN.\n",
    "\n",
    "While you're there, scan through other interesting databases of your choice ([ArXiV](http://snap.stanford.edu/data/ca-AstroPh.html), or others from the LINQS team)"
   ]
  },
  {
   "cell_type": "code",
   "execution_count": null,
   "metadata": {},
   "outputs": [],
   "source": [
    "# do stuff"
   ]
  },
  {
   "cell_type": "markdown",
   "metadata": {},
   "source": [
    "### Task 2\n",
    "\n",
    "Perform Link Prediction through Node2Vec. Evaluate accuracy of prediction."
   ]
  },
  {
   "cell_type": "code",
   "execution_count": null,
   "metadata": {},
   "outputs": [],
   "source": [
    "# do stuff again"
   ]
  },
  {
   "cell_type": "markdown",
   "metadata": {},
   "source": [
    "### Task 3\n",
    "\n",
    "Find a (proper?) way to use Thomas Kipf's code and perform Link Prediction with help of node features. Once again provide evaluation of accuracy. Compare with Node2Vec results.\n",
    "\n",
    "_Last minute breaking news_: It seems there are packages for jupyter [here](https://github.com/dmlc/dgl/tree/master/examples/pytorch/gcn) or [there](https://github.com/dbusbridge/gcn_tutorial)."
   ]
  },
  {
   "cell_type": "code",
   "execution_count": null,
   "metadata": {},
   "outputs": [],
   "source": [
    "# Still stuff to do."
   ]
  },
  {
   "cell_type": "markdown",
   "metadata": {},
   "source": [
    "### Task 4\n",
    "\n",
    "Perform Node classification. How does it compare to label propagation?"
   ]
  },
  {
   "cell_type": "code",
   "execution_count": null,
   "metadata": {},
   "outputs": [],
   "source": [
    "# Well you know..."
   ]
  }
 ],
 "metadata": {
  "kernelspec": {
   "display_name": "Python 3",
   "language": "python",
   "name": "python3"
  },
  "language_info": {
   "codemirror_mode": {
    "name": "ipython",
    "version": 3
   },
   "file_extension": ".py",
   "mimetype": "text/x-python",
   "name": "python",
   "nbconvert_exporter": "python",
   "pygments_lexer": "ipython3",
   "version": "3.7.3"
  }
 },
 "nbformat": 4,
 "nbformat_minor": 2
}
