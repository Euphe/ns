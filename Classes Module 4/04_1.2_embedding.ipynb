{
 "cells": [
  {
   "cell_type": "markdown",
   "metadata": {},
   "source": [
    "# Graph embedding\n",
    "\n",
    "_Deadline is yesterday!_\n",
    "\n",
    "We shall use Node2Vec as a tool to study the connections between characters of \"Les Misérables\" by Victor Hugo. First we install package ```node2vec```."
   ]
  },
  {
   "cell_type": "code",
   "execution_count": null,
   "metadata": {},
   "outputs": [],
   "source": [
    "!conda install node2vec"
   ]
  },
  {
   "cell_type": "markdown",
   "metadata": {},
   "source": [
    "Then we import our usual friends (adding our new friend)"
   ]
  },
  {
   "cell_type": "code",
   "execution_count": 10,
   "metadata": {},
   "outputs": [],
   "source": [
    "%matplotlib inline\n",
    "\n",
    "import numpy as np\n",
    "import networkx as nx\n",
    "import matplotlib.pyplot as plt\n",
    "from node2vec import Node2Vec"
   ]
  },
  {
   "cell_type": "markdown",
   "metadata": {},
   "source": [
    "Then we load the graph."
   ]
  },
  {
   "cell_type": "code",
   "execution_count": 11,
   "metadata": {},
   "outputs": [],
   "source": [
    "graph=nx.read_gml('lesmis.gml')"
   ]
  },
  {
   "cell_type": "markdown",
   "metadata": {},
   "source": [
    "Now we can run the algorithm node2vec. This algorithm perfoms a specified number of random walks (of a specified length). Parameters ```p``` and ```q``` rule the behaviour of random walks."
   ]
  },
  {
   "cell_type": "code",
   "execution_count": 18,
   "metadata": {},
   "outputs": [
    {
     "name": "stderr",
     "output_type": "stream",
     "text": [
      "Computing transition probabilities: 100%|██████████| 77/77 [00:00<00:00, 2524.52it/s]\n",
      "Generating walks (CPU: 1): 100%|██████████| 10/10 [00:01<00:00,  6.21it/s]\n"
     ]
    }
   ],
   "source": [
    "node2vec = Node2Vec(graph, dimensions=20, walk_length=50,num_walks=10,p=1,q=1)"
   ]
  },
  {
   "cell_type": "markdown",
   "metadata": {},
   "source": [
    "We then give these random walks to the algorithm Word2Vec to get an embedding of each node."
   ]
  },
  {
   "cell_type": "code",
   "execution_count": 19,
   "metadata": {},
   "outputs": [],
   "source": [
    "model = node2vec.fit(window=10, min_count=1)"
   ]
  },
  {
   "cell_type": "markdown",
   "metadata": {},
   "source": [
    "Now, each node is associated with a vector of real numbers."
   ]
  },
  {
   "cell_type": "code",
   "execution_count": 20,
   "metadata": {},
   "outputs": [
    {
     "data": {
      "text/plain": [
       "array([-0.5334754 , -0.3881075 ,  0.81360924,  0.5951413 ,  0.32729116,\n",
       "       -0.44674373, -0.07405547,  0.2478086 , -0.10672326,  0.0626025 ,\n",
       "        0.4657666 , -0.59012395,  0.16970167, -0.02917699,  0.56338966,\n",
       "       -0.2352376 , -0.18098205,  0.38214725, -0.30162117, -0.18512192],\n",
       "      dtype=float32)"
      ]
     },
     "execution_count": 20,
     "metadata": {},
     "output_type": "execute_result"
    }
   ],
   "source": [
    "model.wv.get_vector('Javert')"
   ]
  },
  {
   "cell_type": "markdown",
   "metadata": {},
   "source": [
    "We can check the similarity between two nodes with this function (or just do the scalar product of the vectors)"
   ]
  },
  {
   "cell_type": "code",
   "execution_count": 15,
   "metadata": {},
   "outputs": [
    {
     "data": {
      "text/plain": [
       "0.61810267"
      ]
     },
     "execution_count": 15,
     "metadata": {},
     "output_type": "execute_result"
    }
   ],
   "source": [
    "model.wv.similarity('Javert','Fantine')"
   ]
  },
  {
   "cell_type": "markdown",
   "metadata": {},
   "source": [
    "Let us now look at the similarity of original edges of the graph."
   ]
  },
  {
   "cell_type": "code",
   "execution_count": 16,
   "metadata": {},
   "outputs": [
    {
     "data": {
      "image/png": "[encoded data removed]",
      "text/plain": [
       "<Figure size 432x288 with 1 Axes>"
      ]
     },
     "metadata": {
      "needs_background": "light"
     },
     "output_type": "display_data"
    }
   ],
   "source": [
    "sim_list=[]\n",
    "for u,v in graph.edges():\n",
    "    sim_list.append(model.wv.similarity(u,v))\n",
    "\n",
    "a = plt.hist(sim_list)"
   ]
  },
  {
   "cell_type": "markdown",
   "metadata": {},
   "source": [
    "And have a look at similarity of non-edges."
   ]
  },
  {
   "cell_type": "code",
   "execution_count": 17,
   "metadata": {},
   "outputs": [
    {
     "data": {
      "image/png": "[encoded data removed]",
      "text/plain": [
       "<Figure size 432x288 with 1 Axes>"
      ]
     },
     "metadata": {
      "needs_background": "light"
     },
     "output_type": "display_data"
    }
   ],
   "source": [
    "unsim_list=[]\n",
    "for u in graph.nodes():\n",
    "    for v in graph.nodes():\n",
    "        if not((u,v) in graph.edges()):\n",
    "            unsim_list.append(model.wv.similarity(u,v))\n",
    "\n",
    "a = plt.hist(unsim_list)"
   ]
  },
  {
   "cell_type": "markdown",
   "metadata": {},
   "source": [
    "### Task\n",
    "\n",
    "Implement a function that gives for any threshold the proportion of good guess (false positive, true positive, false negative, true negative) if we were to say that similarity above is an edge and below is a none-edge. What is the optimal value of this parameter? Use your knowledge from other courses."
   ]
  },
  {
   "cell_type": "code",
   "execution_count": null,
   "metadata": {},
   "outputs": [],
   "source": []
  },
  {
   "cell_type": "markdown",
   "metadata": {},
   "source": [
    "### Task\n",
    "\n",
    "Now from your vectors (for each node), you can build another product to get a new vector. For example let us use Hadamard product (coordinate by coordinate). Use this and your knowledge to do binary classification."
   ]
  },
  {
   "cell_type": "code",
   "execution_count": null,
   "metadata": {},
   "outputs": [],
   "source": []
  }
 ],
 "metadata": {
  "kernelspec": {
   "display_name": "Python 3",
   "language": "python",
   "name": "python3"
  },
  "language_info": {
   "codemirror_mode": {
    "name": "ipython",
    "version": 3
   },
   "file_extension": ".py",
   "mimetype": "text/x-python",
   "name": "python",
   "nbconvert_exporter": "python",
   "pygments_lexer": "ipython3",
   "version": "3.7.3"
  }
 },
 "nbformat": 4,
 "nbformat_minor": 2
}
