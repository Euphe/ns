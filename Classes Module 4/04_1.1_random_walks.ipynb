{
 "cells": [
  {
   "cell_type": "markdown",
   "metadata": {},
   "source": [
    "# Random Walk Modeling\n",
    "\n",
    "_Deadline 18.04.19_\n",
    "\n",
    "During this seminar, we shall emulate the random walk of a knight on a chessboard. Then, we'll find a way to pick a random (uniformly chosen) spanning tree of a graph!\n",
    "\n",
    "## 1/ A knight in the dark\n",
    "\n",
    "Consider an $n \\times n$ chessboard with a single knight on it. \n",
    "\n",
    "1. Construct a network with all knight's possible moves. In this network each node represents chessboard locations and an edge between two locations appears if knight is admitted to move from one to another.\n",
    "\n",
    "2. Implement simulation of knight random walk on chessboard\n",
    "\n",
    "    * Calculate average probability to visit chessboard locations\n",
    "    * Calculate average recurrence time of a node\n",
    "    \n",
    "_But first, where could we go without our sanctified preamble?_"
   ]
  },
  {
   "cell_type": "code",
   "execution_count": null,
   "metadata": {},
   "outputs": [],
   "source": [
    "import numpy as np\n",
    "import matplotlib.pyplot as plt\n",
    "from numpy.random import choice, rand \n",
    "import networkx as nx\n",
    "%matplotlib inline"
   ]
  },
  {
   "cell_type": "code",
   "execution_count": null,
   "metadata": {},
   "outputs": [],
   "source": [
    "def GenKnightNetwork(boardSize):\n",
    "    G = nx.Graph()\n",
    "    pos = {}\n",
    "    for col in range(boardSize):\n",
    "        for row in range(boardSize):\n",
    "            nodeId = row + col*boardSize\n",
    "            pos[nodeId] = np.array([1.0*row/boardSize, 1.0*col/boardSize])\n",
    "            newPos = GetLegalMoves(row, col, boardSize)\n",
    "            for e in newPos:\n",
    "                nid = e[0] + e[1]*boardSize\n",
    "                G.add_edge(nodeId, nid)\n",
    "    return G, pos\n",
    "\n",
    "def GetLegalMoves(x,y,boardSize):\n",
    "    newMoves = []\n",
    "    moveOffsets = [(-1,-2),(-1,2),(-2,-1),(-2,1),\n",
    "                   ( 1,-2),( 1,2),( 2,-1),( 2,1)]\n",
    "    for i in moveOffsets:\n",
    "        newX = x + i[0]\n",
    "        newY = y + i[1]\n",
    "        if isLegalCoord(newX,boardSize) and isLegalCoord(newY,boardSize):\n",
    "            newMoves.append((newX,newY))\n",
    "    return newMoves\n",
    "\n",
    "def isLegalCoord(x,boardSize):\n",
    "    if x >= 0 and x < boardSize:\n",
    "        return True\n",
    "    else:\n",
    "        return False"
   ]
  },
  {
   "cell_type": "code",
   "execution_count": null,
   "metadata": {},
   "outputs": [],
   "source": [
    "boardSize = 8\n",
    "(G,pos) = GenKnightNetwork(boardSize)\n",
    "nx.draw_networkx(G,pos)"
   ]
  },
  {
   "cell_type": "markdown",
   "metadata": {},
   "source": [
    "_Next, we shall implement the random walk in a finite graph. This next function return a list of visited nodes (ordered). Depending on the value of_ ```till_first_return```, _it runs for a specified number of steps or until it comes back to the first vertex (yes, it shall happen)._"
   ]
  },
  {
   "cell_type": "code",
   "execution_count": null,
   "metadata": {},
   "outputs": [],
   "source": [
    "def RandomWalk(G, xi, n, till_first_return = False):\n",
    "    nodeSeq = []\n",
    "    nodeSeq.append(xi)\n",
    "    if till_first_return:\n",
    "        xInit = xi\n",
    "        while True:\n",
    "            xi = choice(list(G.neighbors(xi)),1)[0]       \n",
    "            nodeSeq.append(xi)\n",
    "            if xi == xInit:\n",
    "                return nodeSeq\n",
    "    else:\n",
    "        for i in range(n):\n",
    "            xi = choice(list(G.neighbors(xi)),1)[0]       \n",
    "            nodeSeq.append(xi)\n",
    "        return nodeSeq"
   ]
  },
  {
   "cell_type": "markdown",
   "metadata": {},
   "source": [
    "Let us first walk around. Run this cell several time to see if behavior is homogeneous."
   ]
  },
  {
   "cell_type": "code",
   "execution_count": null,
   "metadata": {},
   "outputs": [],
   "source": [
    "nodeSeq = RandomWalk(G, 0, 100)\n",
    "edgeSeq = [(nodeSeq[i-1], nodeSeq[i]) for i in range(1,len(nodeSeq))]\n",
    "nx.draw(G,pos,edge_color='gray',width=.2)\n",
    "nx.draw(G, pos, edgelist = edgeSeq, edge_color='blue', width=2)"
   ]
  },
  {
   "cell_type": "markdown",
   "metadata": {},
   "source": [
    "Now let us walk until we come back home. Run this cell several time to see if behavior is homogeneous."
   ]
  },
  {
   "cell_type": "code",
   "execution_count": null,
   "metadata": {},
   "outputs": [],
   "source": [
    "nodeSeq = RandomWalk(G, 0, 100, True)\n",
    "edgeSeq = [(nodeSeq[i-1], nodeSeq[i]) for i in range(1,len(nodeSeq))]\n",
    "nx.draw(G,pos,edge_color='gray',width=.2)\n",
    "nx.draw(G, pos, edgelist = edgeSeq, edge_color='blue', width=2)"
   ]
  },
  {
   "cell_type": "markdown",
   "metadata": {},
   "source": [
    "Now, let us model a random walk starting from each node of the graph. We shall merge these sequences and observe statistics on this giant list.\n",
    "\n",
    "### Task 1\n",
    "_Start a random walk of length 1000 from each node of the graph and concatenate all these random walks. Then plot the histogram of this large sequence. Compare to the bar plot of degree distribution of $G$._"
   ]
  },
  {
   "cell_type": "code",
   "execution_count": null,
   "metadata": {},
   "outputs": [],
   "source": [
    "## Build a giant sequence here."
   ]
  },
  {
   "cell_type": "code",
   "execution_count": null,
   "metadata": {},
   "outputs": [],
   "source": [
    "# Plot histogram."
   ]
  },
  {
   "cell_type": "code",
   "execution_count": null,
   "metadata": {},
   "outputs": [],
   "source": [
    "# The degree distribution of G.\n",
    "\n",
    "a = plt.bar(range(64),[G.degree(i) for i in range(64)])"
   ]
  },
  {
   "cell_type": "markdown",
   "metadata": {},
   "source": [
    "Finally, let us observe the number of steps needed to come back to the starting node (let us say node 27 here)."
   ]
  },
  {
   "cell_type": "code",
   "execution_count": null,
   "metadata": {},
   "outputs": [],
   "source": [
    "returnTime = []\n",
    "for i in range(1000):\n",
    "    returnTime.append(len(RandomWalk(G, 27, 0, True)))"
   ]
  },
  {
   "cell_type": "code",
   "execution_count": null,
   "metadata": {},
   "outputs": [],
   "source": [
    "a = plt.boxplot(returnTime)"
   ]
  },
  {
   "cell_type": "markdown",
   "metadata": {},
   "source": [
    "### Task 2\n",
    "_Does this time depends on the chosen starting node? Can you give any intuition? Plot the average return time from every vertex of the graph. Compare with degree distribution._"
   ]
  },
  {
   "cell_type": "code",
   "execution_count": null,
   "metadata": {},
   "outputs": [],
   "source": [
    "# Code"
   ]
  },
  {
   "cell_type": "markdown",
   "metadata": {},
   "source": [
    "Text"
   ]
  },
  {
   "cell_type": "markdown",
   "metadata": {},
   "source": [
    "## 2 Generating spanning trees\n",
    "\n",
    "Given a connected graph $G=(V,E)$, a spanning tree of $G$ is a tree $T=(V,F)$ with the same set of nodes as $G$ and such that its edges are a subset of those of $G$ ($F \\subseteq E$). Any connected graph has a spanning tree. But there can be many (like exponentially many) of them.\n",
    "\n",
    "### Question 3\n",
    "_How many spanning trees for the graph $K_2$ (complete graph on two nodes), $K_3$, $K_4$? What about $K_n$?_"
   ]
  },
  {
   "cell_type": "markdown",
   "metadata": {},
   "source": [
    "Your answer..."
   ]
  },
  {
   "cell_type": "markdown",
   "metadata": {},
   "source": [
    "Taking a random spanning tree uniformly can be quite complicated for that matter. We don't want to list them all before picking one!\n",
    "\n",
    "A pretty simple algorithm based on random walk gives a good generating model. It does the following:\n",
    "\n",
    "```\n",
    "WHILE every node has not been visited\n",
    "    random walk one step\n",
    "    IF new node is found THEN store the edge used for its discovery\n",
    "RETURN the set of stored edges.\n",
    "```\n",
    "\n",
    "### Task 4\n",
    "\n",
    "_Implement such an algorithm. Maintain a counter of how many random steps are taken._"
   ]
  },
  {
   "cell_type": "code",
   "execution_count": null,
   "metadata": {},
   "outputs": [],
   "source": [
    "def gen_random_spanning_tree(G):\n",
    "    # Your code here the next three lines are to be removed!\n",
    "    counter = 0\n",
    "    E_T = []\n",
    "    return counter, E_T"
   ]
  },
  {
   "cell_type": "markdown",
   "metadata": {},
   "source": [
    "## For your information (not to be implemented)\n",
    "\n",
    "Still, discovering the whole graph can take some time for a random walk. In 1996, Wilson [1] provided a new algorithm which also produces a random (uniformly chosen) spanning tree. The tree grows as follows:\n",
    "\n",
    "1. First pick a node $v$ and let $T$ be the tree consisting of only $v$ (one node, no edge).\n",
    "2. While $T$ is not spanning (have not been reached yet)\n",
    "    1. pick a node $u$ of $G$ not in $T$\n",
    "    2. starting from $u$, walk randomly in $G$ until you hit some vertex of $T$.\n",
    "    3. delete loops from this random walks.\n",
    "    4. plug it to your current tree $T$.\n",
    "3. Return $T$.\n",
    "\n",
    "In a sense, this algorithms \"prevents\" to stick in the visited component for too long.\n",
    "\n",
    "\n",
    "[1] Wilson D. B., Generating random spanning trees more quickly than the cover time, _Proceedings of the Twenty-eighth Annual ACM Symposium on the Theory of Computing (Philadelphia, PA, 1996)_, pp. 296-303, ACM, New York, 1996."
   ]
  },
  {
   "cell_type": "markdown",
   "metadata": {},
   "source": [
    "Let us plot the number of steps taken by your algorithm on several random graphs."
   ]
  },
  {
   "cell_type": "code",
   "execution_count": null,
   "metadata": {},
   "outputs": [],
   "source": [
    "sample = 10\n",
    "p=.3\n",
    "Tsimple=[]\n",
    "for n in range(50,300,20):\n",
    "    localTsimple=[]\n",
    "    for i in range(sample):\n",
    "        G = nx.erdos_renyi_graph(n,p)\n",
    "        c,T = gen_random_spanning_tree(G)\n",
    "        localTsimple.append(c)\n",
    "    Tsimple.append(sum(localTsimple)/len(localTsimple))"
   ]
  },
  {
   "cell_type": "code",
   "execution_count": null,
   "metadata": {},
   "outputs": [],
   "source": [
    "a=plt.plot(Tsimple)"
   ]
  }
 ],
 "metadata": {
  "kernelspec": {
   "display_name": "Python 3",
   "language": "python",
   "name": "python3"
  },
  "language_info": {
   "codemirror_mode": {
    "name": "ipython",
    "version": 3
   },
   "file_extension": ".py",
   "mimetype": "text/x-python",
   "name": "python",
   "nbconvert_exporter": "python",
   "pygments_lexer": "ipython3",
   "version": "3.7.3"
  }
 },
 "nbformat": 4,
 "nbformat_minor": 2
}
