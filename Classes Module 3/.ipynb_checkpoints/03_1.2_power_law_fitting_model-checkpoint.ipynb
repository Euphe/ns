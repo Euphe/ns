{
 "cells": [
  {
   "cell_type": "markdown",
   "metadata": {},
   "source": [
    "## Lab 1 16.01.2017"
   ]
  },
  {
   "cell_type": "markdown",
   "metadata": {},
   "source": [
    "Policy for sending after deadline\n",
    "\n",
    "Lab 1 Deadline 23.01, after -1 point per day, 0 in a week after"
   ]
  },
  {
   "cell_type": "markdown",
   "metadata": {},
   "source": [
    "### Load the graph"
   ]
  },
  {
   "cell_type": "markdown",
   "metadata": {},
   "source": [
    "Find and plot PDF and CDF for the following networks:\n",
    "* [Facebook network](http://www.leonidzhukov.net/hse/2015/networks/data/fb_Princeton.txt)\n",
    "\n",
    "0. Load the graph. Plot descriptive statistics for the network (number of vertices, number of edges, number of connected components, radius, diameter, degree distribution, shortest path destribution)"
   ]
  },
  {
   "cell_type": "code",
   "execution_count": 8,
   "metadata": {},
   "outputs": [],
   "source": [
    "%matplotlib inline\n",
    "import numpy as np\n",
    "import networkx as nx\n",
    "import matplotlib.pyplot as plt\n",
    "from sklearn.metrics import r2_score\n",
    "from scipy import stats\n",
    "edges = np.loadtxt(\"fb_Princeton.txt\", skiprows=4, dtype=\"i8,i8\")\n",
    "graph = nx.Graph()\n",
    "graph.add_edges_from(edges)"
   ]
  },
  {
   "cell_type": "code",
   "execution_count": 9,
   "metadata": {},
   "outputs": [
    {
     "name": "stdout",
     "output_type": "stream",
     "text": [
      "('Total connected components', 10)\n",
      "('The largest connected component the majority of nodes:', 6575)\n"
     ]
    }
   ],
   "source": [
    "connected_components = list(nx.connected_component_subgraphs(graph))\n",
    "print('Total connected components', len(connected_components))\n",
    "largest_connected_component = list(connected_components)[0]\n",
    "print('The largest connected component the majority of nodes:', len(largest_connected_component.nodes()))\n",
    "graph = largest_connected_component"
   ]
  },
  {
   "cell_type": "markdown",
   "metadata": {},
   "source": [
    "### We cut off everything except the largest connected component"
   ]
  },
  {
   "cell_type": "code",
   "execution_count": 10,
   "metadata": {},
   "outputs": [
    {
     "name": "stdout",
     "output_type": "stream",
     "text": [
      "('Vertices', 6575)\n",
      "('Edges', 293307)\n"
     ]
    },
    {
     "ename": "KeyboardInterrupt",
     "evalue": "",
     "output_type": "error",
     "traceback": [
      "\u001b[0;31m---------------------------------------------------------------------------\u001b[0m",
      "\u001b[0;31mKeyboardInterrupt\u001b[0m                         Traceback (most recent call last)",
      "\u001b[0;32m<ipython-input-10-12eef7d5ae24>\u001b[0m in \u001b[0;36m<module>\u001b[0;34m()\u001b[0m\n\u001b[1;32m      1\u001b[0m \u001b[0;32mprint\u001b[0m\u001b[0;34m(\u001b[0m\u001b[0;34m'Vertices'\u001b[0m\u001b[0;34m,\u001b[0m \u001b[0mlen\u001b[0m\u001b[0;34m(\u001b[0m\u001b[0mgraph\u001b[0m\u001b[0;34m.\u001b[0m\u001b[0mnodes\u001b[0m\u001b[0;34m(\u001b[0m\u001b[0;34m)\u001b[0m\u001b[0;34m)\u001b[0m\u001b[0;34m)\u001b[0m\u001b[0;34m\u001b[0m\u001b[0m\n\u001b[1;32m      2\u001b[0m \u001b[0;32mprint\u001b[0m\u001b[0;34m(\u001b[0m\u001b[0;34m'Edges'\u001b[0m\u001b[0;34m,\u001b[0m \u001b[0mlen\u001b[0m\u001b[0;34m(\u001b[0m\u001b[0mgraph\u001b[0m\u001b[0;34m.\u001b[0m\u001b[0medges\u001b[0m\u001b[0;34m(\u001b[0m\u001b[0;34m)\u001b[0m\u001b[0;34m)\u001b[0m\u001b[0;34m)\u001b[0m\u001b[0;34m\u001b[0m\u001b[0m\n\u001b[0;32m----> 3\u001b[0;31m \u001b[0;32mprint\u001b[0m\u001b[0;34m(\u001b[0m\u001b[0;34m'Radius'\u001b[0m\u001b[0;34m,\u001b[0m \u001b[0mnx\u001b[0m\u001b[0;34m.\u001b[0m\u001b[0mradius\u001b[0m\u001b[0;34m(\u001b[0m\u001b[0mgraph\u001b[0m\u001b[0;34m)\u001b[0m\u001b[0;34m)\u001b[0m\u001b[0;34m\u001b[0m\u001b[0m\n\u001b[0m\u001b[1;32m      4\u001b[0m \u001b[0;32mprint\u001b[0m\u001b[0;34m(\u001b[0m\u001b[0;34m'Diameter'\u001b[0m\u001b[0;34m,\u001b[0m \u001b[0mnx\u001b[0m\u001b[0;34m.\u001b[0m\u001b[0mdiameter\u001b[0m\u001b[0;34m(\u001b[0m\u001b[0mgraph\u001b[0m\u001b[0;34m)\u001b[0m\u001b[0;34m)\u001b[0m\u001b[0;34m\u001b[0m\u001b[0m\n",
      "\u001b[0;32m/home/boris/anaconda3/envs/py2/lib/python2.7/site-packages/networkx/algorithms/distance_measures.pyc\u001b[0m in \u001b[0;36mradius\u001b[0;34m(G, e)\u001b[0m\n\u001b[1;32m    141\u001b[0m     \"\"\"\n\u001b[1;32m    142\u001b[0m     \u001b[0;32mif\u001b[0m \u001b[0me\u001b[0m \u001b[0;32mis\u001b[0m \u001b[0mNone\u001b[0m\u001b[0;34m:\u001b[0m\u001b[0;34m\u001b[0m\u001b[0m\n\u001b[0;32m--> 143\u001b[0;31m         \u001b[0me\u001b[0m\u001b[0;34m=\u001b[0m\u001b[0meccentricity\u001b[0m\u001b[0;34m(\u001b[0m\u001b[0mG\u001b[0m\u001b[0;34m)\u001b[0m\u001b[0;34m\u001b[0m\u001b[0m\n\u001b[0m\u001b[1;32m    144\u001b[0m     \u001b[0;32mreturn\u001b[0m \u001b[0mmin\u001b[0m\u001b[0;34m(\u001b[0m\u001b[0me\u001b[0m\u001b[0;34m.\u001b[0m\u001b[0mvalues\u001b[0m\u001b[0;34m(\u001b[0m\u001b[0;34m)\u001b[0m\u001b[0;34m)\u001b[0m\u001b[0;34m\u001b[0m\u001b[0m\n\u001b[1;32m    145\u001b[0m \u001b[0;34m\u001b[0m\u001b[0m\n",
      "\u001b[0;32m/home/boris/anaconda3/envs/py2/lib/python2.7/site-packages/networkx/algorithms/distance_measures.pyc\u001b[0m in \u001b[0;36meccentricity\u001b[0;34m(G, v, sp)\u001b[0m\n\u001b[1;32m     51\u001b[0m     \u001b[0;32mfor\u001b[0m \u001b[0mn\u001b[0m \u001b[0;32min\u001b[0m \u001b[0mG\u001b[0m\u001b[0;34m.\u001b[0m\u001b[0mnbunch_iter\u001b[0m\u001b[0;34m(\u001b[0m\u001b[0mv\u001b[0m\u001b[0;34m)\u001b[0m\u001b[0;34m:\u001b[0m\u001b[0;34m\u001b[0m\u001b[0m\n\u001b[1;32m     52\u001b[0m         \u001b[0;32mif\u001b[0m \u001b[0msp\u001b[0m \u001b[0;32mis\u001b[0m \u001b[0mNone\u001b[0m\u001b[0;34m:\u001b[0m\u001b[0;34m\u001b[0m\u001b[0m\n\u001b[0;32m---> 53\u001b[0;31m             \u001b[0mlength\u001b[0m\u001b[0;34m=\u001b[0m\u001b[0mnetworkx\u001b[0m\u001b[0;34m.\u001b[0m\u001b[0msingle_source_shortest_path_length\u001b[0m\u001b[0;34m(\u001b[0m\u001b[0mG\u001b[0m\u001b[0;34m,\u001b[0m\u001b[0mn\u001b[0m\u001b[0;34m)\u001b[0m\u001b[0;34m\u001b[0m\u001b[0m\n\u001b[0m\u001b[1;32m     54\u001b[0m             \u001b[0mL\u001b[0m \u001b[0;34m=\u001b[0m \u001b[0mlen\u001b[0m\u001b[0;34m(\u001b[0m\u001b[0mlength\u001b[0m\u001b[0;34m)\u001b[0m\u001b[0;34m\u001b[0m\u001b[0m\n\u001b[1;32m     55\u001b[0m         \u001b[0;32melse\u001b[0m\u001b[0;34m:\u001b[0m\u001b[0;34m\u001b[0m\u001b[0m\n",
      "\u001b[0;32m/home/boris/anaconda3/envs/py2/lib/python2.7/site-packages/networkx/algorithms/shortest_paths/unweighted.pyc\u001b[0m in \u001b[0;36msingle_source_shortest_path_length\u001b[0;34m(G, source, cutoff)\u001b[0m\n\u001b[1;32m     61\u001b[0m             \u001b[0;32mif\u001b[0m \u001b[0mv\u001b[0m \u001b[0;32mnot\u001b[0m \u001b[0;32min\u001b[0m \u001b[0mseen\u001b[0m\u001b[0;34m:\u001b[0m\u001b[0;34m\u001b[0m\u001b[0m\n\u001b[1;32m     62\u001b[0m                 \u001b[0mseen\u001b[0m\u001b[0;34m[\u001b[0m\u001b[0mv\u001b[0m\u001b[0;34m]\u001b[0m\u001b[0;34m=\u001b[0m\u001b[0mlevel\u001b[0m \u001b[0;31m# set the level of vertex v\u001b[0m\u001b[0;34m\u001b[0m\u001b[0m\n\u001b[0;32m---> 63\u001b[0;31m                 \u001b[0mnextlevel\u001b[0m\u001b[0;34m.\u001b[0m\u001b[0mupdate\u001b[0m\u001b[0;34m(\u001b[0m\u001b[0mG\u001b[0m\u001b[0;34m[\u001b[0m\u001b[0mv\u001b[0m\u001b[0;34m]\u001b[0m\u001b[0;34m)\u001b[0m \u001b[0;31m# add neighbors of v\u001b[0m\u001b[0;34m\u001b[0m\u001b[0m\n\u001b[0m\u001b[1;32m     64\u001b[0m         \u001b[0;32mif\u001b[0m \u001b[0;34m(\u001b[0m\u001b[0mcutoff\u001b[0m \u001b[0;32mis\u001b[0m \u001b[0;32mnot\u001b[0m \u001b[0mNone\u001b[0m \u001b[0;32mand\u001b[0m \u001b[0mcutoff\u001b[0m \u001b[0;34m<=\u001b[0m \u001b[0mlevel\u001b[0m\u001b[0;34m)\u001b[0m\u001b[0;34m:\u001b[0m  \u001b[0;32mbreak\u001b[0m\u001b[0;34m\u001b[0m\u001b[0m\n\u001b[1;32m     65\u001b[0m         \u001b[0mlevel\u001b[0m\u001b[0;34m=\u001b[0m\u001b[0mlevel\u001b[0m\u001b[0;34m+\u001b[0m\u001b[0;36m1\u001b[0m\u001b[0;34m\u001b[0m\u001b[0m\n",
      "\u001b[0;31mKeyboardInterrupt\u001b[0m: "
     ]
    }
   ],
   "source": [
    "print('Vertices', len(graph.nodes()))\n",
    "print('Edges', len(graph.edges()))\n",
    "print('Radius', nx.radius(graph))\n",
    "print('Diameter', nx.diameter(graph))"
   ]
  },
  {
   "cell_type": "code",
   "execution_count": 11,
   "metadata": {},
   "outputs": [],
   "source": [
    "def plot_hist(degrees, bins=1000):\n",
    "    yh, binEdges = np.histogram(degrees, bins=bins)\n",
    "    bincenters = 0.5*(binEdges[1:]+binEdges[:-1])\n",
    "    plt.plot(bincenters, yh, '-', lw=1)\n",
    "    plt.ylabel('count')\n",
    "    plt.xlabel('degrees')\n",
    "    plt.show()\n",
    "    \n",
    "def plot_log_log(degrees, bins=1000):\n",
    "    yh, binEdges = np.histogram(degrees, bins=bins)\n",
    "    bincenters = 0.5*(binEdges[1:]+binEdges[:-1])\n",
    "    plt.loglog(bincenters, yh, '.', lw=2)\n",
    "    plt.ylabel('count')\n",
    "    plt.xlabel('degrees')\n",
    "    plt.show()"
   ]
  },
  {
   "cell_type": "code",
   "execution_count": 12,
   "metadata": {},
   "outputs": [
    {
     "name": "stdout",
     "output_type": "stream",
     "text": [
      "Node degree distribution\n"
     ]
    },
    {
     "data": {
      "image/png": "[encoded data removed]",
      "text/plain": [
       "<Figure size 432x288 with 1 Axes>"
      ]
     },
     "metadata": {
      "needs_background": "light"
     },
     "output_type": "display_data"
    },
    {
     "data": {
      "image/png": "[encoded data removed]",
      "text/plain": [
       "<Figure size 432x288 with 1 Axes>"
      ]
     },
     "metadata": {
      "needs_background": "light"
     },
     "output_type": "display_data"
    }
   ],
   "source": [
    "print('Node degree distribution')\n",
    "node_degrees = graph.degree()\n",
    "plot_hist(node_degrees.values())\n",
    "plot_log_log(node_degrees.values())"
   ]
  },
  {
   "cell_type": "code",
   "execution_count": null,
   "metadata": {},
   "outputs": [
    {
     "name": "stdout",
     "output_type": "stream",
     "text": [
      "Shortest path distribution is too heavy to compute on the whole graph. So we will sample about 20.0% connected nodes and compute shortest paths over them.\n"
     ]
    }
   ],
   "source": [
    "sample_amount = 0.2\n",
    "print('Shortest path distribution is too heavy to compute on the whole graph. So we will sample about {}% connected nodes and compute shortest paths over them.'.format(sample_amount*100))\n",
    "sampled_nodes = np.random.choice(graph.nodes(), size=int(sample_amount * len(graph.nodes())))\n",
    "lenghts = []\n",
    "for i, node in enumerate(sampled_nodes):\n",
    "    for j in range(i+1, len(sampled_nodes)):\n",
    "        node1 = sampled_nodes[j]\n",
    "        path_len = nx.shortest_path_length(graph, source=node, target=node1)\n",
    "        lenghts.append(path_len)\n",
    "lengths = np.array(lenghts)\n",
    "print 'Sampled nodes: {}'.format(len(sampled_nodes))\n",
    "plt.hist(lengths, bins=range(min(lengths), max(lengths)))\n",
    "plt.show()"
   ]
  },
  {
   "cell_type": "markdown",
   "metadata": {},
   "source": [
    "### Power Law"
   ]
  },
  {
   "cell_type": "markdown",
   "metadata": {},
   "source": [
    "1) Does it satisfy power law?"
   ]
  },
  {
   "cell_type": "code",
   "execution_count": null,
   "metadata": {},
   "outputs": [],
   "source": [
    "print(np.random.choice(['Yes', 'No']))"
   ]
  },
  {
   "cell_type": "markdown",
   "metadata": {},
   "source": [
    "## Now let's check it"
   ]
  },
  {
   "cell_type": "markdown",
   "metadata": {},
   "source": [
    "### Determine alpha via linear regression"
   ]
  },
  {
   "cell_type": "code",
   "execution_count": null,
   "metadata": {
    "scrolled": false
   },
   "outputs": [],
   "source": [
    "yh, binEdges=np.histogram(degrees, bins=1000)\n",
    "bincenters = 0.5*(binEdges[1:]+binEdges[:-1])\n",
    "idx = np.ix_(yh != 0)\n",
    "x_est = np.log(bincenters[idx])\n",
    "y_est = np.log(yh[idx])\n",
    "s = len(x_est)\n",
    "\n",
    "X = np.vstack([np.ones(s), x_est]).T\n",
    "Beta = np.dot(np.dot(np.linalg.inv(np.dot(X.T, X)), X.T), y_est)\n",
    "\n",
    "idx = np.argsort(x_est)\n",
    "yt = np.exp(X[idx,:].dot(Beta))\n",
    "xt = np.exp(X[idx,1])\n",
    "\n",
    "fig, ax = plt.subplots()\n",
    "fig.set_size_inches(7,7)\n",
    "ax.loglog(bincenters, yh, '.r', label='Data') \n",
    "ax.loglog(xt, yt, 'b', label='Line')\n",
    "plt.ylabel('count')\n",
    "plt.xlabel('$x$')\n",
    "ax.legend(loc='upper right', shadow=True)\n",
    "\n",
    "a_linreg = -Beta[1]\n",
    "c_linreg = Beta[0]\n",
    "plt.title('Estimated $\\\\alpha$ = {0:1.4f}, $C$ = {1:1.4f}'.format(a_linreg, c_linreg), fontsize=20)\n",
    "plt.show()"
   ]
  },
  {
   "cell_type": "markdown",
   "metadata": {},
   "source": [
    "We can estimate goodness-of-fit via $R^2$"
   ]
  },
  {
   "cell_type": "code",
   "execution_count": null,
   "metadata": {},
   "outputs": [],
   "source": [
    "y_hat = X[idx,:].dot(Beta)\n",
    "print 'R squared:', r2_score(y_hat, y_est)\n",
    "print 'Fine fit'\n",
    "mse = (np.square(y_hat - y_est)).mean()\n",
    "print 'MSE', mse"
   ]
  },
  {
   "cell_type": "markdown",
   "metadata": {},
   "source": [
    "## Satisfies power law"
   ]
  },
  {
   "cell_type": "markdown",
   "metadata": {},
   "source": [
    "2) Find max and mean values of incoming and outcoming node degrees"
   ]
  },
  {
   "cell_type": "markdown",
   "metadata": {},
   "source": [
    "### As the graph is undirected, incoming degrees equal outcoming degrees"
   ]
  },
  {
   "cell_type": "code",
   "execution_count": null,
   "metadata": {},
   "outputs": [],
   "source": [
    "node_degrees = graph.degree()\n",
    "degrees = np.array(node_degrees.values())\n",
    "max_in_degree = np.max(degrees)\n",
    "max_out_degree = max_in_degree\n",
    "mean_in_degree = np.mean(degrees)\n",
    "mean_out_degree = mean_in_degree\n",
    "print('max in degree', max_in_degree)\n",
    "print('mean in degree', mean_in_degree)\n",
    "print('max out degree', max_out_degree)\n",
    "print('mean out degree', mean_out_degree)"
   ]
  },
  {
   "cell_type": "markdown",
   "metadata": {},
   "source": [
    "3) Find $\\alpha$ via Maximum Likelihood and calculate $\\sigma^2$"
   ]
  },
  {
   "cell_type": "code",
   "execution_count": null,
   "metadata": {},
   "outputs": [],
   "source": [
    "print('Estimate x_min using alpha and C obtained from linear regression')\n",
    "x_min_est = float(np.power(c_linreg/(a_linreg-1), 1-a_linreg))\n",
    "x_min_est"
   ]
  },
  {
   "cell_type": "code",
   "execution_count": null,
   "metadata": {},
   "outputs": [],
   "source": [
    "# Max likelihood estimator for alpha\n",
    "def alpha_mle(x, x_min):\n",
    "    x = np.array(x)\n",
    "    n = x.shape[0]\n",
    "    return 1+n*1/(np.sum(np.log(x/x_min)))\n",
    "\n",
    "a_mle = alpha_mle(degrees, x_min_est)\n",
    "a_mle"
   ]
  },
  {
   "cell_type": "code",
   "execution_count": null,
   "metadata": {},
   "outputs": [],
   "source": [
    "sigma_squared = ((a_mle - 1)/np.sqrt(degrees.shape[0]))**2"
   ]
  },
  {
   "cell_type": "code",
   "execution_count": null,
   "metadata": {},
   "outputs": [],
   "source": [
    "print('Alpha estimated by MLE', a_mle)\n",
    "print('Sigma squared estimated', sigma_squared)"
   ]
  },
  {
   "cell_type": "markdown",
   "metadata": {},
   "source": [
    "4) Determine $x_{min}$ via Kolmogorov-Smirnov test"
   ]
  },
  {
   "cell_type": "code",
   "execution_count": null,
   "metadata": {},
   "outputs": [],
   "source": [
    "num_bins = 50\n",
    "fig, ax = plt.subplots(figsize=(8, 4))\n",
    "ax.set_title('Empirical CDF')\n",
    "counts, bin_edges = np.histogram(data, bins=num_bins, normed=True)\n",
    "ecdf = np.cumsum(counts)\n",
    "ecdf = ecdf/ecdf[-1]\n",
    "ax.step(bin_edges[1:], ecdf)\n",
    "plt.show()"
   ]
  },
  {
   "cell_type": "code",
   "execution_count": null,
   "metadata": {},
   "outputs": [],
   "source": []
  }
 ],
 "metadata": {
  "kernelspec": {
   "display_name": "Python 2",
   "language": "python",
   "name": "python2"
  },
  "language_info": {
   "codemirror_mode": {
    "name": "ipython",
    "version": 2
   },
   "file_extension": ".py",
   "mimetype": "text/x-python",
   "name": "python",
   "nbconvert_exporter": "python",
   "pygments_lexer": "ipython2",
   "version": "2.7.15"
  }
 },
 "nbformat": 4,
 "nbformat_minor": 1
}
