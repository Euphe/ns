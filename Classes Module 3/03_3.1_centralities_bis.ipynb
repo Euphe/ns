{
 "cells": [
  {
   "cell_type": "markdown",
   "metadata": {},
   "source": [
    "# Node and Link analysis: Centrality measures\n",
    "\n",
    "Centrality measures are used to estimate the \"importance\" of the elements of the network. The problem is that \"importance\"\n",
    "\n",
    "* is not well-defined,\n",
    "* depends on the domain of the network\n",
    "\n",
    "During this seminar we will consider two node centrality measures: degree centrality and closeness centrality\n",
    "\n",
    "### Degree Centrality\n",
    "\n",
    "You have already met the degree centrality in this course.\n",
    "\n",
    "Given adjacency matrix $A$ of an unweighted and undirected graph $G=(V,E)$ on $n$ nodes, degree centrality of node $v_i$ is computed as:\n",
    "\n",
    "$$ c_d(v_i)=\\displaystyle\\sum_jA_{ji}.$$\n",
    "\n",
    "In order to compare nodes across graphs this measure can be normalized by a factor $\\frac{1}{n−1}$.\n",
    "\n",
    "### Closeness Centrality\n",
    "\n",
    "Closeness centrality is used to identify nodes that can reach other nodes quickly. It is defined as follows:\n",
    "\n",
    "$$ c_c(v_i)= \\frac{1}{\\displaystyle\\sum_{j \\neq i}d(v_i,v_j)},$$\n",
    "\n",
    "where $d(v_i,v_j)$ is the length of a shortest path between $v_i$ and $v_j$. Again, it is normalized by a multiplicative coefficient $n−1$.\n",
    "\n",
    "## Why?\n",
    "\n",
    "Centralities allow us to\n",
    "\n",
    "* Understand the structure of the graph without looking at it\n",
    "* Compare nodes of a graph (between graphs) and identify the most \"important\"\n",
    "* Compare graphs\n",
    "\n",
    "## Example: Zachary's karate club\n",
    "\n",
    "Let us dive in this first example. It is a small graph which allows us to draw graphic representations of it. First, we load our favourite libraries."
   ]
  },
  {
   "cell_type": "code",
   "execution_count": null,
   "metadata": {},
   "outputs": [],
   "source": [
    "%matplotlib inline\n",
    "import numpy as np\n",
    "import matplotlib.pyplot as plt\n",
    "import networkx as nx"
   ]
  },
  {
   "cell_type": "markdown",
   "metadata": {},
   "source": [
    "Now we load the graph and fix its layout for future representations."
   ]
  },
  {
   "cell_type": "code",
   "execution_count": null,
   "metadata": {},
   "outputs": [],
   "source": [
    "K = nx.karate_club_graph()\n",
    "pos = nx.spring_layout(K)\n",
    "nx.draw_networkx(K,pos)"
   ]
  },
  {
   "cell_type": "markdown",
   "metadata": {},
   "source": [
    "### Degree centrality\n",
    "\n",
    "Let us compute the degree centrality throuhg NetworkX function and change the size (and color) of each node accordingly."
   ]
  },
  {
   "cell_type": "code",
   "execution_count": null,
   "metadata": {},
   "outputs": [],
   "source": [
    "# Degree centrality\n",
    "dc = nx.degree_centrality(K)\n",
    "plt.figure(1, figsize=(10,7))\n",
    "nx.draw_networkx(K,\n",
    "          pos,\n",
    "          nodelist=dc.keys(),\n",
    "          node_size = [d*7000 for d in dc.values()],\n",
    "          node_color=list(dc.values()),\n",
    "          font_size=8,\n",
    "          font_color='red',\n",
    "          cmap=plt.cm.Greys,\n",
    "          )"
   ]
  },
  {
   "cell_type": "markdown",
   "metadata": {},
   "source": [
    "We may observe that nodes 0 and 33 are the most \"important\" with respect to degree centrality.\n",
    "\n",
    "### Closeness centrality\n",
    "\n",
    "Let us now do the same thing with the other measure."
   ]
  },
  {
   "cell_type": "code",
   "execution_count": null,
   "metadata": {},
   "outputs": [],
   "source": [
    "# Closeness centrality\n",
    "cc = nx.closeness_centrality(K)\n",
    "plt.figure(1, figsize=(10,7))\n",
    "nx.draw_networkx(K,\n",
    "          pos,\n",
    "          nodelist=cc.keys(),\n",
    "          node_size = [c*7000 for c in cc.values()],\n",
    "          node_color=list(cc.values()),\n",
    "          font_size=8,\n",
    "          font_color='red',\n",
    "          cmap=plt.cm.Greys,\n",
    "          )"
   ]
  },
  {
   "cell_type": "markdown",
   "metadata": {},
   "source": [
    "Closeness centrality bring more nodes into the \"important\" bucket! \n",
    "\n",
    "### Closeness versus Degree\n",
    "\n",
    "Let us plot degree vs closeness centralities."
   ]
  },
  {
   "cell_type": "code",
   "execution_count": null,
   "metadata": {},
   "outputs": [],
   "source": [
    "# Plot closeness vs degree centralities\n",
    "xdata = list(dc.values())\n",
    "ydata = list(cc.values())\n",
    "plt.figure(1, figsize=(7,7))\n",
    "plt.xlabel('Degree Centrality')\n",
    "plt.ylabel('Closeness Centrality')\n",
    "p=plt.plot(xdata,ydata, '+')"
   ]
  },
  {
   "cell_type": "markdown",
   "metadata": {},
   "source": [
    "If we want some better understanding, we may print the labels of each node."
   ]
  },
  {
   "cell_type": "code",
   "execution_count": null,
   "metadata": {},
   "outputs": [],
   "source": [
    "# Adding labels for nodes.\n",
    "\n",
    "fig = plt.figure(figsize=(14,7))\n",
    "\n",
    "ax1 = fig.add_subplot(121)\n",
    "for v in range(len(dc)):\n",
    "   ax1.text(x = xdata[v], y = ydata[v], s=str(v))\n",
    "ax1.set_xlim(0.8 * min(xdata), 1.1 * max(xdata))\n",
    "ax1.set_ylim(0.8 * min(ydata), 1.1 * max(ydata))\n",
    "ax1.set_xlabel('Degree Centrality')\n",
    "ax1.set_ylabel('Closeness Centrality')\n",
    "\n",
    "ax2 = fig.add_subplot(122)\n",
    "ax2 = nx.draw_networkx(K, pos)"
   ]
  },
  {
   "cell_type": "markdown",
   "metadata": {},
   "source": [
    "In this example, the span of degree centrality is"
   ]
  },
  {
   "cell_type": "code",
   "execution_count": null,
   "metadata": {},
   "outputs": [],
   "source": [
    "# Span of degree centrality (aka xdata)\n",
    "max(xdata)-min(xdata)"
   ]
  },
  {
   "cell_type": "markdown",
   "metadata": {},
   "source": [
    "While the span of closeness centrality is "
   ]
  },
  {
   "cell_type": "code",
   "execution_count": null,
   "metadata": {},
   "outputs": [],
   "source": [
    "# Span of closeness centrality (aka ydata)\n",
    "max(ydata)-min(ydata)"
   ]
  },
  {
   "cell_type": "markdown",
   "metadata": {},
   "source": [
    "For that reason, closeness centrality tends to make important vertices less bright (in this example). Is it a common situation? We shall inquire about it later.\n",
    "\n",
    "For now, let us make another observation... Let us just draw the identity function on the plot."
   ]
  },
  {
   "cell_type": "code",
   "execution_count": null,
   "metadata": {},
   "outputs": [],
   "source": [
    "# Plot closeness vs degree centralities with an added line!\n",
    "xdata = list(dc.values())\n",
    "ydata = list(cc.values())\n",
    "plt.figure(1, figsize=(7,7))\n",
    "plt.xlabel('Degree Centrality')\n",
    "plt.ylabel('Closeness Centrality')\n",
    "p=plt.plot(xdata,ydata, '+')\n",
    "x=np.arange(min(xdata),max(xdata),0.01)\n",
    "p=plt.plot(x,x)"
   ]
  },
  {
   "cell_type": "markdown",
   "metadata": {},
   "source": [
    "One may observe that the closeness centrality is always greater than the degree centrality. Is it a common feature of these measures or is it due to the small size of this example?\n",
    "\n",
    "### Looking for evidence\n",
    "\n",
    "Let us build a database of graphs through our Erdős-Renyi generator with several values for $p$.\n"
   ]
  },
  {
   "cell_type": "code",
   "execution_count": null,
   "metadata": {},
   "outputs": [],
   "source": [
    "#Building a list of graphs\n",
    "GD=[]\n",
    "for p in np.arange(0.1,1,.05):\n",
    "    for i in range(5):\n",
    "        G=nx.gnp_random_graph(100,p)\n",
    "        Comp=list(nx.connected_components(G))\n",
    "        H=G.subgraph(Comp[0])\n",
    "        GD.append(H)"
   ]
  },
  {
   "cell_type": "markdown",
   "metadata": {},
   "source": [
    "Let us see if our second guess is satisfied by those graphs."
   ]
  },
  {
   "cell_type": "code",
   "execution_count": null,
   "metadata": {},
   "outputs": [],
   "source": [
    "#Checking one graph at a time\n",
    "def check_cc_greater_dc(G):\n",
    "    dc=nx.degree_centrality(G)\n",
    "    cc=nx.closeness_centrality(G)\n",
    "    return all([cc[v] > dc[v] for v in G.nodes()])\n",
    "    \n",
    "all([check_cc_greater_dc(G) for G in GD]) # This might take a while, try to predict the result!"
   ]
  },
  {
   "cell_type": "markdown",
   "metadata": {},
   "source": [
    "If you are unlucky, you may still think that our observation is valid... In that case, hopefully your neighbour will have a counter-example for you.\n",
    "\n",
    "Now let us investigate that the span seems to be smaller for closeness centrality than for degree centrality. We shall plot the span of both measures for our graphs (we also draw the identity function for a easier reading)."
   ]
  },
  {
   "cell_type": "code",
   "execution_count": null,
   "metadata": {},
   "outputs": [],
   "source": [
    "def span_centralities(G):\n",
    "    dc=list(nx.degree_centrality(G).values())\n",
    "    cc=list(nx.closeness_centrality(G).values())\n",
    "    return([max(dc)-min(dc),max(cc)-min(cc)])\n",
    "\n",
    "def plot_span_vs(L):\n",
    "    sd=[]\n",
    "    sc=[]\n",
    "    for G in L:\n",
    "        [a,b] = span_centralities(G)\n",
    "        sd.append(a)\n",
    "        sc.append(b)\n",
    "    plt.xlabel('degree centrality span')\n",
    "    plt.ylabel('closeness centrality span')\n",
    "    plt.plot(sd,sc,'+')\n",
    "    t=np.arange(min(sd),max(sd),0.01)\n",
    "    plt.plot(t,t)"
   ]
  },
  {
   "cell_type": "code",
   "execution_count": null,
   "metadata": {},
   "outputs": [],
   "source": [
    "plot_span_vs(GD) # Once again, this might take a while. Any guess?"
   ]
  },
  {
   "cell_type": "markdown",
   "metadata": {},
   "source": [
    "Does it make sense ?"
   ]
  }
 ],
 "metadata": {
  "kernelspec": {
   "display_name": "Python 3",
   "language": "python",
   "name": "python3"
  },
  "language_info": {
   "codemirror_mode": {
    "name": "ipython",
    "version": 3
   },
   "file_extension": ".py",
   "mimetype": "text/x-python",
   "name": "python",
   "nbconvert_exporter": "python",
   "pygments_lexer": "ipython3",
   "version": "3.7.0"
  }
 },
 "nbformat": 4,
 "nbformat_minor": 2
}
