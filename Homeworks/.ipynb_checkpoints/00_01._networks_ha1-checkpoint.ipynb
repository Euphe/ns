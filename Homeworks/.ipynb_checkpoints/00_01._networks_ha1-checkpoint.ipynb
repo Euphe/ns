{
 "cells": [
  {
   "cell_type": "markdown",
   "metadata": {},
   "source": [
    "# <center>Network Science</center>"
   ]
  },
  {
   "cell_type": "markdown",
   "metadata": {},
   "source": [
    "## <center>Home Assignment #1: Power law</center>"
   ]
  },
  {
   "cell_type": "markdown",
   "metadata": {},
   "source": [
    "### <center>Student: Boris Tseytlin</center>"
   ]
  },
  {
   "cell_type": "markdown",
   "metadata": {},
   "source": [
    "#### <hr /> General Information"
   ]
  },
  {
   "cell_type": "markdown",
   "metadata": {},
   "source": [
    "**Due Date:** 12.03.2019 23:59 <br \\>\n",
    "**Late submission policy:** -2 points per day <br \\>\n",
    "\n",
    "\n",
    "Please send your reports to <network.hse.2016@gmail.com> with message subject of the following structure:<br \\> **[HSE Networks 2019] *{LastName}* *{First Name}* HA*{Number}***\n",
    "\n",
    "Support your computations with figures and comments. <br \\>\n",
    "If you are using IPython Notebook you may use this file as a starting point of your report.<br \\>\n",
    "<br \\>\n",
    "<hr \\>"
   ]
  },
  {
   "cell_type": "markdown",
   "metadata": {},
   "source": [
    "## Problems"
   ]
  },
  {
   "cell_type": "markdown",
   "metadata": {},
   "source": [
    "### Task 1."
   ]
  },
  {
   "cell_type": "markdown",
   "metadata": {},
   "source": [
    "Load [wordcounts](http://www.leonidzhukov.net/hse/2015/networks/data/wordcounts.txt) dataset. \n",
    "1. Check that Zipf's Law holds\n",
    "2. Assuming that the data is distributed according to the Power Law, find\n",
    " * $\\alpha$ of the distribution\n",
    " * mean sample variance $\\sigma^2$\n",
    "3. Produce summary of the frequencies: min, max, mean, median"
   ]
  },
  {
   "cell_type": "code",
   "execution_count": 2,
   "metadata": {},
   "outputs": [],
   "source": [
    "import numpy as np\n",
    "import matplotlib.pyplot as plt\n",
    "import numpy.random as rnd\n",
    "import pandas as pd\n",
    "import networkx as nx\n",
    "import scipy.stats as stats\n",
    "from sklearn.metrics import r2_score\n",
    "%matplotlib inline"
   ]
  },
  {
   "cell_type": "code",
   "execution_count": 3,
   "metadata": {},
   "outputs": [],
   "source": [
    "word_counts = pd.read_csv(\"wordcounts.txt\", sep=\" \", header=None)\n",
    "word_counts.columns =  ['counts', 'words']"
   ]
  },
  {
   "cell_type": "markdown",
   "metadata": {},
   "source": [
    "# Task 1.1"
   ]
  },
  {
   "cell_type": "code",
   "execution_count": 4,
   "metadata": {},
   "outputs": [
    {
     "data": {
      "text/html": [
       "<div>\n",
       "<style scoped>\n",
       "    .dataframe tbody tr th:only-of-type {\n",
       "        vertical-align: middle;\n",
       "    }\n",
       "\n",
       "    .dataframe tbody tr th {\n",
       "        vertical-align: top;\n",
       "    }\n",
       "\n",
       "    .dataframe thead th {\n",
       "        text-align: right;\n",
       "    }\n",
       "</style>\n",
       "<table border=\"1\" class=\"dataframe\">\n",
       "  <thead>\n",
       "    <tr style=\"text-align: right;\">\n",
       "      <th></th>\n",
       "      <th>counts</th>\n",
       "      <th>words</th>\n",
       "    </tr>\n",
       "  </thead>\n",
       "  <tbody>\n",
       "    <tr>\n",
       "      <th>0</th>\n",
       "      <td>6187267</td>\n",
       "      <td>the</td>\n",
       "    </tr>\n",
       "    <tr>\n",
       "      <th>1</th>\n",
       "      <td>4239632</td>\n",
       "      <td>be</td>\n",
       "    </tr>\n",
       "    <tr>\n",
       "      <th>2</th>\n",
       "      <td>3093444</td>\n",
       "      <td>of</td>\n",
       "    </tr>\n",
       "    <tr>\n",
       "      <th>3</th>\n",
       "      <td>2687863</td>\n",
       "      <td>and</td>\n",
       "    </tr>\n",
       "    <tr>\n",
       "      <th>4</th>\n",
       "      <td>2186369</td>\n",
       "      <td>a</td>\n",
       "    </tr>\n",
       "  </tbody>\n",
       "</table>\n",
       "</div>"
      ],
      "text/plain": [
       "    counts words\n",
       "0  6187267   the\n",
       "1  4239632    be\n",
       "2  3093444    of\n",
       "3  2687863   and\n",
       "4  2186369     a"
      ]
     },
     "execution_count": 4,
     "metadata": {},
     "output_type": "execute_result"
    }
   ],
   "source": [
    "word_counts.head()"
   ]
  },
  {
   "cell_type": "markdown",
   "metadata": {},
   "source": [
    "The dataset contains duplicates, so we have to merge duplicate word counts first."
   ]
  },
  {
   "cell_type": "code",
   "execution_count": 5,
   "metadata": {},
   "outputs": [
    {
     "data": {
      "text/html": [
       "<div>\n",
       "<style scoped>\n",
       "    .dataframe tbody tr th:only-of-type {\n",
       "        vertical-align: middle;\n",
       "    }\n",
       "\n",
       "    .dataframe tbody tr th {\n",
       "        vertical-align: top;\n",
       "    }\n",
       "\n",
       "    .dataframe thead th {\n",
       "        text-align: right;\n",
       "    }\n",
       "</style>\n",
       "<table border=\"1\" class=\"dataframe\">\n",
       "  <thead>\n",
       "    <tr style=\"text-align: right;\">\n",
       "      <th></th>\n",
       "      <th>words</th>\n",
       "      <th>counts</th>\n",
       "    </tr>\n",
       "  </thead>\n",
       "  <tbody>\n",
       "    <tr>\n",
       "      <th>4905</th>\n",
       "      <td>the</td>\n",
       "      <td>6187267</td>\n",
       "    </tr>\n",
       "    <tr>\n",
       "      <th>434</th>\n",
       "      <td>be</td>\n",
       "      <td>4239632</td>\n",
       "    </tr>\n",
       "    <tr>\n",
       "      <th>3294</th>\n",
       "      <td>of</td>\n",
       "      <td>3093444</td>\n",
       "    </tr>\n",
       "    <tr>\n",
       "      <th>207</th>\n",
       "      <td>and</td>\n",
       "      <td>2687863</td>\n",
       "    </tr>\n",
       "    <tr>\n",
       "      <th>4972</th>\n",
       "      <td>to</td>\n",
       "      <td>2674162</td>\n",
       "    </tr>\n",
       "  </tbody>\n",
       "</table>\n",
       "</div>"
      ],
      "text/plain": [
       "     words   counts\n",
       "4905   the  6187267\n",
       "434     be  4239632\n",
       "3294    of  3093444\n",
       "207    and  2687863\n",
       "4972    to  2674162"
      ]
     },
     "execution_count": 5,
     "metadata": {},
     "output_type": "execute_result"
    }
   ],
   "source": [
    "#Merge duplicate word counts\n",
    "word_counts_unique = word_counts.groupby(['words']).sum().reset_index().sort_values(by='counts', ascending=False)\n",
    "word_counts_unique.head()"
   ]
  },
  {
   "cell_type": "markdown",
   "metadata": {},
   "source": [
    "Now we can plot it and expected zipf law values on a log-logscale "
   ]
  },
  {
   "cell_type": "code",
   "execution_count": 6,
   "metadata": {},
   "outputs": [],
   "source": [
    "expected_zipf = [word_counts_unique.counts.iloc[0]]\n",
    "for i in range(1, len(word_counts_unique.counts)):\n",
    "    expected_zipf.append(word_counts_unique.counts.iloc[0]/(i+1))"
   ]
  },
  {
   "cell_type": "code",
   "execution_count": 7,
   "metadata": {
    "scrolled": true
   },
   "outputs": [
    {
     "name": "stdout",
     "output_type": "stream",
     "text": [
      "Regression slope (alpha): -1.232424868801492\n"
     ]
    },
    {
     "data": {
      "image/png": "[encoded data removed]",
      "text/plain": [
       "<Figure size 504x504 with 1 Axes>"
      ]
     },
     "metadata": {
      "needs_background": "light"
     },
     "output_type": "display_data"
    }
   ],
   "source": [
    "def powerfit(x, y):\n",
    "    \"\"\"line fitting on log-log scale\"\"\"\n",
    "    k, m = np.polyfit(np.log(x), np.log(y), 1)\n",
    "    return k, m, np.exp(m) * x**(k)\n",
    "\n",
    "\n",
    "fig = plt.figure(figsize=(7, 7))\n",
    "ax = fig.add_subplot(2, 1, 1)\n",
    "\n",
    "\n",
    "x = range(1, len(word_counts_unique.counts)+1)\n",
    "y = word_counts_unique.counts.values\n",
    "alpha, C, fit_data = powerfit(x, y)\n",
    "\n",
    "print 'Regression slope (alpha):', alpha\n",
    "\n",
    "\n",
    "line, = ax.plot(x, word_counts_unique.counts, label='word counts', color='blue', lw=1)\n",
    "\n",
    "line, = ax.plot(x, expected_zipf, color='red', label='zipf law', lw=1)\n",
    "\n",
    "line, = ax.plot(x, fit_data, color='green', label='regression', lw=1)\n",
    "\n",
    "ax.set_yscale('log')\n",
    "ax.set_xscale('log')\n",
    "\n",
    "ax.set_ylabel('count')\n",
    "ax.set_xlabel('rank')\n",
    "\n",
    "plt.legend()\n",
    "plt.show()"
   ]
  },
  {
   "cell_type": "markdown",
   "metadata": {},
   "source": [
    "The lines are very close, the word counts line is almost linear, and the regression slope is close to `-1`.\n",
    "\n",
    "Zipf's Law holds for this data, at least partially."
   ]
  },
  {
   "cell_type": "code",
   "execution_count": 8,
   "metadata": {},
   "outputs": [
    {
     "name": "stdout",
     "output_type": "stream",
     "text": [
      "Estimate x_min using alpha and C obtained from linear regression\n"
     ]
    },
    {
     "data": {
      "text/plain": [
       "0.366105021326876"
      ]
     },
     "execution_count": 8,
     "metadata": {},
     "output_type": "execute_result"
    }
   ],
   "source": [
    "print('Estimate x_min using alpha and C obtained from linear regression')\n",
    "x_min_est = float(np.power(C/(abs(alpha)-1), (1-abs(alpha))))\n",
    "x_min_est"
   ]
  },
  {
   "cell_type": "code",
   "execution_count": 9,
   "metadata": {},
   "outputs": [
    {
     "data": {
      "text/plain": [
       "1.1091366284430824"
      ]
     },
     "execution_count": 9,
     "metadata": {},
     "output_type": "execute_result"
    }
   ],
   "source": [
    "# Max likelihood estimator for alpha\n",
    "def alpha_mle(x, x_min):\n",
    "    x = np.array(x)\n",
    "    n = x.shape[0]\n",
    "    return 1+n*1/(np.sum(np.log(x/x_min)))\n",
    "\n",
    "a_mle = alpha_mle(word_counts_unique.counts, x_min_est)\n",
    "a_mle"
   ]
  },
  {
   "cell_type": "code",
   "execution_count": 10,
   "metadata": {},
   "outputs": [],
   "source": [
    "sigma_squared = ((a_mle - 1)/np.sqrt(word_counts_unique.counts.shape[0]))**2"
   ]
  },
  {
   "cell_type": "code",
   "execution_count": 11,
   "metadata": {},
   "outputs": [
    {
     "name": "stdout",
     "output_type": "stream",
     "text": [
      "Alpha estimated by MLE: 1.1091366284430824\n",
      "Sigma squared estimated: 2.179868899693158e-06\n"
     ]
    }
   ],
   "source": [
    "print 'Alpha estimated by MLE:', a_mle\n",
    "print 'Sigma squared estimated:', sigma_squared"
   ]
  },
  {
   "cell_type": "markdown",
   "metadata": {},
   "source": [
    "# Task 1.3"
   ]
  },
  {
   "cell_type": "code",
   "execution_count": 12,
   "metadata": {},
   "outputs": [
    {
     "name": "stdout",
     "output_type": "stream",
     "text": [
      "Word counts descriptive statistics\n"
     ]
    },
    {
     "data": {
      "text/html": [
       "<div>\n",
       "<style scoped>\n",
       "    .dataframe tbody tr th:only-of-type {\n",
       "        vertical-align: middle;\n",
       "    }\n",
       "\n",
       "    .dataframe tbody tr th {\n",
       "        vertical-align: top;\n",
       "    }\n",
       "\n",
       "    .dataframe thead th {\n",
       "        text-align: right;\n",
       "    }\n",
       "</style>\n",
       "<table border=\"1\" class=\"dataframe\">\n",
       "  <thead>\n",
       "    <tr style=\"text-align: right;\">\n",
       "      <th></th>\n",
       "      <th>counts</th>\n",
       "    </tr>\n",
       "  </thead>\n",
       "  <tbody>\n",
       "    <tr>\n",
       "      <th>count</th>\n",
       "      <td>5.464000e+03</td>\n",
       "    </tr>\n",
       "    <tr>\n",
       "      <th>mean</th>\n",
       "      <td>1.568708e+04</td>\n",
       "    </tr>\n",
       "    <tr>\n",
       "      <th>std</th>\n",
       "      <td>1.366228e+05</td>\n",
       "    </tr>\n",
       "    <tr>\n",
       "      <th>min</th>\n",
       "      <td>8.000000e+02</td>\n",
       "    </tr>\n",
       "    <tr>\n",
       "      <th>25%</th>\n",
       "      <td>1.311750e+03</td>\n",
       "    </tr>\n",
       "    <tr>\n",
       "      <th>50%</th>\n",
       "      <td>2.566500e+03</td>\n",
       "    </tr>\n",
       "    <tr>\n",
       "      <th>75%</th>\n",
       "      <td>6.858250e+03</td>\n",
       "    </tr>\n",
       "    <tr>\n",
       "      <th>max</th>\n",
       "      <td>6.187267e+06</td>\n",
       "    </tr>\n",
       "  </tbody>\n",
       "</table>\n",
       "</div>"
      ],
      "text/plain": [
       "             counts\n",
       "count  5.464000e+03\n",
       "mean   1.568708e+04\n",
       "std    1.366228e+05\n",
       "min    8.000000e+02\n",
       "25%    1.311750e+03\n",
       "50%    2.566500e+03\n",
       "75%    6.858250e+03\n",
       "max    6.187267e+06"
      ]
     },
     "execution_count": 12,
     "metadata": {},
     "output_type": "execute_result"
    }
   ],
   "source": [
    "print('Word counts descriptive statistics')\n",
    "word_counts_unique.describe()"
   ]
  },
  {
   "cell_type": "markdown",
   "metadata": {},
   "source": [
    "### <hr /> Task 2."
   ]
  },
  {
   "cell_type": "markdown",
   "metadata": {},
   "source": [
    "Find and plot PDF and CDF for the following networks:\n",
    "* [Routing network](http://www.leonidzhukov.net/hse/2015/networks/data/network.txt)\n",
    "* [Web graph](http://www.leonidzhukov.net/hse/2015/networks/data/web_Stanford.txt)\n",
    "\n",
    "1. Are they correspondent to power law?\n",
    "2. Find max and mean values of incoming and outcoming node degrees\n",
    "3. Find $\\alpha$ via Maximum Likelihood and calculate $\\sigma^2$\n",
    "4. Determine $x_{min}$ via Kolmogorov-Smirnov test\n",
    "5. Try to fit Erdos model for the Web Graph and describe common and different points in their descriptive statistics"
   ]
  },
  {
   "cell_type": "markdown",
   "metadata": {},
   "source": [
    "# Task 2"
   ]
  },
  {
   "cell_type": "code",
   "execution_count": 13,
   "metadata": {},
   "outputs": [],
   "source": [
    "edges = np.loadtxt(\"routing_network.txt\", skiprows=4, dtype=\"i8,i8\")\n",
    "graph_rn = nx.Graph()\n",
    "graph_rn.add_edges_from(edges)"
   ]
  },
  {
   "cell_type": "code",
   "execution_count": 14,
   "metadata": {},
   "outputs": [],
   "source": [
    "edges = np.loadtxt(\"web_Stanford.txt\", skiprows=4, dtype=\"i8,i8\")\n",
    "graph_web = nx.DiGraph()\n",
    "graph_web.add_edges_from(edges)"
   ]
  },
  {
   "cell_type": "code",
   "execution_count": 15,
   "metadata": {},
   "outputs": [
    {
     "name": "stdout",
     "output_type": "stream",
     "text": [
      "Routing network\n",
      "Max in degree 2390\n",
      "Max out degree 2390\n"
     ]
    }
   ],
   "source": [
    "in_degrees = graph_rn.degree().values()\n",
    "out_degrees = graph_rn.degree().values()\n",
    "print 'Routing network'\n",
    "print 'Max in degree', max(in_degrees)\n",
    "print 'Max out degree', max(out_degrees)"
   ]
  },
  {
   "cell_type": "code",
   "execution_count": 16,
   "metadata": {},
   "outputs": [
    {
     "name": "stdout",
     "output_type": "stream",
     "text": [
      "Web\n",
      "Max in degree 38606\n",
      "Max out degree 255\n"
     ]
    }
   ],
   "source": [
    "in_degrees = graph_web.in_degree().values()\n",
    "out_degrees = graph_web.out_degree().values()\n",
    "print 'Web'\n",
    "print 'Max in degree', max(in_degrees)\n",
    "print 'Max out degree', max(out_degrees)"
   ]
  },
  {
   "cell_type": "code",
   "execution_count": 17,
   "metadata": {},
   "outputs": [
    {
     "name": "stdout",
     "output_type": "stream",
     "text": [
      "Routing graph\n",
      "Node degree distribution\n"
     ]
    },
    {
     "data": {
      "image/png": "[encoded data removed]",
      "text/plain": [
       "<Figure size 432x288 with 1 Axes>"
      ]
     },
     "metadata": {
      "needs_background": "light"
     },
     "output_type": "display_data"
    },
    {
     "data": {
      "image/png": "[encoded data removed]",
      "text/plain": [
       "<Figure size 432x288 with 1 Axes>"
      ]
     },
     "metadata": {
      "needs_background": "light"
     },
     "output_type": "display_data"
    }
   ],
   "source": [
    "def plot_hist(degrees, bins=1000):\n",
    "    yh, binEdges = np.histogram(degrees, bins=bins)\n",
    "    bincenters = 0.5*(binEdges[1:]+binEdges[:-1])\n",
    "    plt.plot(bincenters, yh, '-', lw=1)\n",
    "    plt.ylabel('count')\n",
    "    plt.xlabel('degrees')\n",
    "    \n",
    "def plot_log_log(degrees, bins=1000):\n",
    "    yh, binEdges = np.histogram(degrees, bins=bins)\n",
    "    bincenters = 0.5*(binEdges[1:]+binEdges[:-1])\n",
    "    plt.loglog(bincenters, yh, '.', lw=2)\n",
    "    plt.ylabel('count')\n",
    "    plt.xlabel('degrees')\n",
    "\n",
    "print 'Routing graph'\n",
    "print 'Node degree distribution'\n",
    "node_degrees_rn = graph_rn.degree()\n",
    "degree_values_rn = np.array(node_degrees_rn.values())\n",
    "degree_keys_rn = np.array(node_degrees_rn.keys())\n",
    "plt.figure()\n",
    "plot_hist(degree_values_rn)\n",
    "plt.show()\n",
    "plt.figure()\n",
    "plot_log_log(node_degrees_rn.values())\n",
    "plt.show()"
   ]
  },
  {
   "cell_type": "code",
   "execution_count": 18,
   "metadata": {},
   "outputs": [
    {
     "name": "stdout",
     "output_type": "stream",
     "text": [
      "Web graph\n",
      "Node degree distribution\n"
     ]
    },
    {
     "data": {
      "image/png": "[encoded data removed]",
      "text/plain": [
       "<Figure size 432x288 with 1 Axes>"
      ]
     },
     "metadata": {
      "needs_background": "light"
     },
     "output_type": "display_data"
    },
    {
     "data": {
      "image/png": "[encoded data removed]",
      "text/plain": [
       "<Figure size 432x288 with 1 Axes>"
      ]
     },
     "metadata": {
      "needs_background": "light"
     },
     "output_type": "display_data"
    }
   ],
   "source": [
    "print 'Web graph'\n",
    "print 'Node degree distribution'\n",
    "node_degrees_web = graph_web.degree()\n",
    "degree_values_web = np.array(node_degrees_web.values())\n",
    "degree_keys_web = np.array(node_degrees_web.keys())\n",
    "plt.figure()\n",
    "plot_hist(degree_values_web)\n",
    "plt.show()\n",
    "plt.figure()\n",
    "plot_log_log(node_degrees_web.values())\n",
    "plt.show()"
   ]
  },
  {
   "cell_type": "markdown",
   "metadata": {},
   "source": [
    "## Data corresponds to power law distribution."
   ]
  },
  {
   "cell_type": "code",
   "execution_count": 19,
   "metadata": {},
   "outputs": [],
   "source": [
    "def fit_log_log(degree_vals):\n",
    "    yh, binEdges=np.histogram(degree_vals, bins=1000)\n",
    "    bincenters = 0.5*(binEdges[1:]+binEdges[:-1])\n",
    "    idx = np.ix_(yh != 0)\n",
    "    x_est = np.log(bincenters[idx])\n",
    "    y_est = np.log(yh[idx])\n",
    "    s = len(x_est)\n",
    "\n",
    "    X = np.vstack([np.ones(s), x_est]).T\n",
    "    Beta = np.dot(np.dot(np.linalg.inv(np.dot(X.T, X)), X.T), y_est)\n",
    "\n",
    "    idx = np.argsort(x_est)\n",
    "    yt = np.exp(X[idx,:].dot(Beta))\n",
    "    xt = np.exp(X[idx,1])\n",
    "\n",
    "    fig, ax = plt.subplots()\n",
    "    fig.set_size_inches(7,7)\n",
    "    ax.loglog(bincenters, yh, '.r', label='Data') \n",
    "    ax.loglog(xt, yt, 'b', label='Line')\n",
    "    plt.ylabel('count')\n",
    "    plt.xlabel('$x$')\n",
    "    ax.legend(loc='upper right', shadow=True)\n",
    "\n",
    "    a_linreg = -Beta[1]\n",
    "    c_linreg = Beta[0]\n",
    "    return a_linreg, c_linreg"
   ]
  },
  {
   "cell_type": "code",
   "execution_count": 20,
   "metadata": {},
   "outputs": [
    {
     "data": {
      "image/png": "[encoded data removed]",
      "text/plain": [
       "<Figure size 504x504 with 1 Axes>"
      ]
     },
     "metadata": {
      "needs_background": "light"
     },
     "output_type": "display_data"
    }
   ],
   "source": [
    "a_linreg_rn, c_linreg_rn = fit_log_log(degree_values_rn)\n",
    "plt.title('Routing network estimated $\\\\alpha$ = {0:1.4f}, $C$ = {1:1.4f}'.format(a_linreg_rn, c_linreg_rn), fontsize=20)\n",
    "plt.show()"
   ]
  },
  {
   "cell_type": "code",
   "execution_count": 21,
   "metadata": {},
   "outputs": [
    {
     "name": "stdout",
     "output_type": "stream",
     "text": [
      "Routing network\n",
      "Alpha estimated by MLE: 1.704403093165976\n",
      "Sigma squared estimated: 2.160796575629467e-05\n"
     ]
    }
   ],
   "source": [
    "# Max likelihood estimator for alpha\n",
    "def alpha_mle(x, x_min):\n",
    "    x = np.array(x)\n",
    "    n = x.shape[0]\n",
    "    return 1+n*1/(np.sum(np.log(x/x_min)))\n",
    "\n",
    "def alpha_mle_iterative(x, y, x_min):\n",
    "    ts = -np.sum(y) * np.log(x_min)\n",
    "    for i in range(len(x)):\n",
    "        ts += np.log(x[i]) * y[i] \n",
    "    return 1. + np.sum(y) / ts \n",
    "\n",
    "x_min_est_rn = float(np.power(c_linreg_rn/(a_linreg_rn-1), 1-a_linreg_rn))\n",
    "\n",
    "a_mle_rn = alpha_mle(degree_values_rn, x_min_est_rn)\n",
    "sigma_squared = ((a_mle_rn - 1)/np.sqrt(degree_values_rn.shape[0]))**2\n",
    "\n",
    "print 'Routing network'\n",
    "print 'Alpha estimated by MLE:', a_mle_rn\n",
    "print 'Sigma squared estimated:', sigma_squared"
   ]
  },
  {
   "cell_type": "code",
   "execution_count": 22,
   "metadata": {},
   "outputs": [
    {
     "data": {
      "image/png": "[encoded data removed]",
      "text/plain": [
       "<Figure size 504x504 with 1 Axes>"
      ]
     },
     "metadata": {
      "needs_background": "light"
     },
     "output_type": "display_data"
    }
   ],
   "source": [
    "a_linreg_web, c_linreg_web = fit_log_log(degree_values_web)\n",
    "plt.title('Web graph estimated $\\\\alpha$ = {0:1.4f}, $C$ = {1:1.4f}'.format(a_linreg_web, c_linreg_web), fontsize=20)\n",
    "plt.show()"
   ]
  },
  {
   "cell_type": "code",
   "execution_count": 23,
   "metadata": {},
   "outputs": [
    {
     "name": "stdout",
     "output_type": "stream",
     "text": [
      "Web graph\n",
      "Alpha estimated by MLE: 1.3045823780884942\n",
      "Sigma squared estimated: 3.2908633481035116e-07\n"
     ]
    }
   ],
   "source": [
    "x_min_est_web = float(np.power(c_linreg_web/(a_linreg_web-1), 1-a_linreg_web))\n",
    "\n",
    "a_mle_web = alpha_mle(degree_values_web, x_min_est_web)\n",
    "sigma_squared = ((a_mle_web - 1)/np.sqrt(degree_values_web.shape[0]))**2\n",
    "\n",
    "print 'Web graph'\n",
    "print 'Alpha estimated by MLE:', a_mle_web\n",
    "print 'Sigma squared estimated:', sigma_squared"
   ]
  },
  {
   "cell_type": "code",
   "execution_count": 24,
   "metadata": {},
   "outputs": [
    {
     "name": "stdout",
     "output_type": "stream",
     "text": [
      "Xmin via kolmogorov smirnov\n"
     ]
    }
   ],
   "source": [
    "print 'Xmin via kolmogorov smirnov'"
   ]
  },
  {
   "cell_type": "code",
   "execution_count": 25,
   "metadata": {},
   "outputs": [],
   "source": [
    "vcounts = pd.Series(degree_values_rn).value_counts()\n",
    "degree_keys_rn = np.array(vcounts.index)\n",
    "sort_order = np.argsort(degree_keys_rn)\n",
    "degree_keys_rn = degree_keys_rn[sort_order]\n",
    "degree_vcounts_rn = vcounts.values[sort_order]\n",
    "\n",
    "vcounts = pd.Series(degree_values_web).value_counts()\n",
    "degree_keys_web = np.array(vcounts.index)\n",
    "sort_order = np.argsort(degree_keys_web)\n",
    "degree_keys_web = degree_keys_web[sort_order]\n",
    "degree_vcounts_web = vcounts.values[sort_order]"
   ]
  },
  {
   "cell_type": "code",
   "execution_count": 26,
   "metadata": {},
   "outputs": [
    {
     "name": "stdout",
     "output_type": "stream",
     "text": [
      "Routing network\n",
      "Parameters estimated by Kolmogorov-Smirnov:\n",
      "X min 32\n",
      "Alpha 2.072384242176555\n"
     ]
    }
   ],
   "source": [
    "def cdf_empirical(y):\n",
    "    n = len(y)\n",
    "    f = np.zeros(n)\n",
    "    f[0] = 0\n",
    "    for i in range(1,n):\n",
    "        f[i] = f[i - 1] + y[i]\n",
    "    return f/ np.sum(y)\n",
    "\n",
    "def cdf_powerlaw(x,x_min,alpha):\n",
    "    return (1.0 - (float(x_min)/x)** (alpha - 1.0))\n",
    "\n",
    "def pdf_powerlaw(x,x_min,alpha):\n",
    "    return (float((alpha - 1.0) * x_min**(alpha - 1.0))/(x**alpha)) \n",
    "\n",
    "def kstest(alpha_initial, graph):\n",
    "    degree_values = graph.degree().values()\n",
    "    vcounts = pd.Series(degree_values).value_counts()\n",
    "    degree_keys = np.array(vcounts.index)\n",
    "    sort_order = np.argsort(degree_keys)\n",
    "    degree_keys = degree_keys[sort_order]\n",
    "    degree_vcounts = vcounts.values[sort_order]\n",
    "    max_degree = np.max(degree_values)\n",
    "    x = degree_keys\n",
    "    d_val = 1\n",
    "    x_min = 1\n",
    "    alpha = alpha_initial\n",
    "    for i in range(1, max_degree):\n",
    "        x_ = x[x > i]\n",
    "        y_ = degree_vcounts[x > i]\n",
    "        alpha_ = alpha_mle_iterative(x_, y_, i)\n",
    "        ks_val = max(abs(cdf_empirical(y_) - cdf_powerlaw(x_, i, alpha_)))\n",
    "        if ks_val < d_val:\n",
    "            d_val = ks_val\n",
    "            alpha = alpha_\n",
    "            x_min = i\n",
    "    return x_min, alpha, ks_val\n",
    "\n",
    "x_min_rn, alpha_ks_rn, ks_val = kstest(a_mle_rn, graph_rn)\n",
    "print 'Routing network'\n",
    "print 'Parameters estimated by Kolmogorov-Smirnov:'\n",
    "print 'X min', x_min_rn\n",
    "print 'Alpha', alpha_ks_rn"
   ]
  },
  {
   "cell_type": "code",
   "execution_count": 27,
   "metadata": {},
   "outputs": [
    {
     "ename": "AttributeError",
     "evalue": "'list' object has no attribute 'shape'",
     "output_type": "error",
     "traceback": [
      "\u001b[0;31m---------------------------------------------------------------------------\u001b[0m",
      "\u001b[0;31mAttributeError\u001b[0m                            Traceback (most recent call last)",
      "\u001b[0;32m<ipython-input-27-2a9a13f520db>\u001b[0m in \u001b[0;36m<module>\u001b[0;34m()\u001b[0m\n\u001b[1;32m     76\u001b[0m     \u001b[0;32mreturn\u001b[0m \u001b[0mx_min\u001b[0m\u001b[0;34m,\u001b[0m \u001b[0malpha\u001b[0m\u001b[0;34m\u001b[0m\u001b[0m\n\u001b[1;32m     77\u001b[0m \u001b[0;34m\u001b[0m\u001b[0m\n\u001b[0;32m---> 78\u001b[0;31m \u001b[0mx_min\u001b[0m\u001b[0;34m,\u001b[0m \u001b[0malpha\u001b[0m \u001b[0;34m=\u001b[0m \u001b[0mcompute_power_law_params\u001b[0m\u001b[0;34m(\u001b[0m\u001b[0mgraph_rn\u001b[0m\u001b[0;34m.\u001b[0m\u001b[0mdegree\u001b[0m\u001b[0;34m(\u001b[0m\u001b[0;34m)\u001b[0m\u001b[0;34m.\u001b[0m\u001b[0mvalues\u001b[0m\u001b[0;34m(\u001b[0m\u001b[0;34m)\u001b[0m\u001b[0;34m)\u001b[0m\u001b[0;34m\u001b[0m\u001b[0m\n\u001b[0m\u001b[1;32m     79\u001b[0m \u001b[0;32mprint\u001b[0m \u001b[0;34m'Estimated power law xmin, alpha:'\u001b[0m\u001b[0;34m,\u001b[0m \u001b[0mx_min\u001b[0m\u001b[0;34m,\u001b[0m \u001b[0malpha\u001b[0m\u001b[0;34m\u001b[0m\u001b[0m\n",
      "\u001b[0;32m<ipython-input-27-2a9a13f520db>\u001b[0m in \u001b[0;36mcompute_power_law_params\u001b[0;34m(degree_values)\u001b[0m\n\u001b[1;32m     71\u001b[0m \u001b[0;34m\u001b[0m\u001b[0m\n\u001b[1;32m     72\u001b[0m     \u001b[0ma_mle\u001b[0m \u001b[0;34m=\u001b[0m \u001b[0malpha_mle\u001b[0m\u001b[0;34m(\u001b[0m\u001b[0mdegree_values\u001b[0m\u001b[0;34m,\u001b[0m \u001b[0mx_min_est\u001b[0m\u001b[0;34m)\u001b[0m\u001b[0;34m\u001b[0m\u001b[0m\n\u001b[0;32m---> 73\u001b[0;31m     \u001b[0msigma_squared\u001b[0m \u001b[0;34m=\u001b[0m \u001b[0;34m(\u001b[0m\u001b[0;34m(\u001b[0m\u001b[0ma_mle\u001b[0m \u001b[0;34m-\u001b[0m \u001b[0;36m1\u001b[0m\u001b[0;34m)\u001b[0m\u001b[0;34m/\u001b[0m\u001b[0mnp\u001b[0m\u001b[0;34m.\u001b[0m\u001b[0msqrt\u001b[0m\u001b[0;34m(\u001b[0m\u001b[0mdegree_values\u001b[0m\u001b[0;34m.\u001b[0m\u001b[0mshape\u001b[0m\u001b[0;34m[\u001b[0m\u001b[0;36m0\u001b[0m\u001b[0;34m]\u001b[0m\u001b[0;34m)\u001b[0m\u001b[0;34m)\u001b[0m\u001b[0;34m**\u001b[0m\u001b[0;36m2\u001b[0m\u001b[0;34m\u001b[0m\u001b[0m\n\u001b[0m\u001b[1;32m     74\u001b[0m \u001b[0;34m\u001b[0m\u001b[0m\n\u001b[1;32m     75\u001b[0m     \u001b[0mx_min\u001b[0m\u001b[0;34m,\u001b[0m \u001b[0malpha\u001b[0m\u001b[0;34m,\u001b[0m \u001b[0m_\u001b[0m \u001b[0;34m=\u001b[0m \u001b[0mkstest\u001b[0m\u001b[0;34m(\u001b[0m\u001b[0ma_mle\u001b[0m\u001b[0;34m,\u001b[0m \u001b[0mdegree_values\u001b[0m\u001b[0;34m)\u001b[0m\u001b[0;34m\u001b[0m\u001b[0m\n",
      "\u001b[0;31mAttributeError\u001b[0m: 'list' object has no attribute 'shape'"
     ]
    }
   ],
   "source": [
    "def fit_log_log(degree_vals):\n",
    "    yh, binEdges=np.histogram(degree_vals, bins=1000)\n",
    "    bincenters = 0.5*(binEdges[1:]+binEdges[:-1])\n",
    "    idx = np.ix_(yh != 0)\n",
    "    x_est = np.log(bincenters[idx])\n",
    "    y_est = np.log(yh[idx])\n",
    "    s = len(x_est)\n",
    "\n",
    "    X = np.vstack([np.ones(s), x_est]).T\n",
    "    Beta = np.dot(np.dot(np.linalg.inv(np.dot(X.T, X)), X.T), y_est)\n",
    "\n",
    "    idx = np.argsort(x_est)\n",
    "    yt = np.exp(X[idx,:].dot(Beta))\n",
    "    xt = np.exp(X[idx,1])\n",
    "\n",
    "    a_linreg = -Beta[1]\n",
    "    c_linreg = Beta[0]\n",
    "    return a_linreg, c_linreg\n",
    "\n",
    "def alpha_mle(x, x_min):\n",
    "    x = np.array(x)\n",
    "    n = x.shape[0]\n",
    "    return 1+n*1/(np.sum(np.log(x/x_min)))\n",
    "\n",
    "def alpha_mle_iterative(x, y, x_min):\n",
    "    ts = -np.sum(y) * np.log(x_min)\n",
    "    for i in range(len(x)):\n",
    "        ts += np.log(x[i]) * y[i] \n",
    "    return 1. + np.sum(y) / ts \n",
    "\n",
    "def cdf_empirical(y):\n",
    "    n = len(y)\n",
    "    f = np.zeros(n)\n",
    "    f[0] = 0\n",
    "    for i in range(1,n):\n",
    "        f[i] = f[i - 1] + y[i]\n",
    "    return f/ np.sum(y)\n",
    "\n",
    "def cdf_powerlaw(x,x_min,alpha):\n",
    "    return (1.0 - (float(x_min)/x)** (alpha - 1.0))\n",
    "\n",
    "def pdf_powerlaw(x,x_min,alpha):\n",
    "    return (float((alpha - 1.0) * x_min**(alpha - 1.0))/(x**alpha)) \n",
    "\n",
    "def kstest(alpha_initial, degree_values):\n",
    "    vcounts = pd.Series(degree_values).value_counts()\n",
    "    degree_keys = np.array(vcounts.index)\n",
    "    sort_order = np.argsort(degree_keys)\n",
    "    degree_keys = degree_keys[sort_order]\n",
    "    degree_vcounts = vcounts.values[sort_order]\n",
    "    max_degree = np.max(degree_values)\n",
    "    x = degree_keys\n",
    "    d_val = 1\n",
    "    x_min = 1\n",
    "    alpha = alpha_initial\n",
    "    for i in range(1, max_degree):\n",
    "        x_ = x[x > i]\n",
    "        y_ = degree_vcounts[x > i]\n",
    "        alpha_ = alpha_mle_iterative(x_, y_, i)\n",
    "        ks_val = max(abs(cdf_empirical(y_) - cdf_powerlaw(x_, i, alpha_)))\n",
    "        if ks_val < d_val:\n",
    "            d_val = ks_val\n",
    "            alpha = alpha_\n",
    "            x_min = i\n",
    "    return x_min, alpha, ks_val\n",
    "\n",
    "def compute_power_law_params(degree_values):\n",
    "    a_linreg, c_linreg = fit_log_log(degree_values)\n",
    "    \n",
    "    x_min_est = float(np.power(c_linreg/(a_linreg-1), 1-a_linreg))\n",
    "\n",
    "    a_mle = alpha_mle(degree_values, x_min_est)\n",
    "    sigma_squared = ((a_mle - 1)/np.sqrt(degree_values.shape[0]))**2\n",
    "    \n",
    "    x_min, alpha, _ = kstest(a_mle, degree_values)\n",
    "    return x_min, alpha\n",
    "\n",
    "x_min, alpha = compute_power_law_params(pd.Series(graph_rn.degree()))\n",
    "print 'Estimated power law xmin, alpha:', x_min, alpha"
   ]
  },
  {
   "cell_type": "code",
   "execution_count": null,
   "metadata": {},
   "outputs": [],
   "source": [
    "plt.figure(1, figsize=(20, 7))\n",
    "plt.plot(degree_keys_rn[degree_keys_rn > x_min_rn], cdf_empirical(degree_vcounts_rn[degree_keys_rn > x_min_rn]),'g', label='Empirical')\n",
    "plt.plot(degree_keys_rn[degree_keys_rn > x_min_rn], cdf_powerlaw(degree_keys_rn[degree_keys_rn > x_min_rn], x_min_rn, alpha_ks_rn), 'b', label='Power law')\n",
    "\n",
    "plt.ylabel(\"CDF\")\n",
    "plt.xlabel(\"Degree\")\n",
    "plt.legend()\n",
    "plt.title('Routing Graph CDF')\n",
    "plt.show()"
   ]
  },
  {
   "cell_type": "code",
   "execution_count": null,
   "metadata": {},
   "outputs": [],
   "source": [
    "x_min_web, alpha_ks_web, ks_val = kstest(a_mle_web, graph_web)\n",
    "print 'Web graph'\n",
    "print 'Parameters estimated by Kolmogorov-Smiwebov:'\n",
    "print 'X min', x_min_web\n",
    "print 'Alpha', alpha_ks_web"
   ]
  },
  {
   "cell_type": "code",
   "execution_count": null,
   "metadata": {},
   "outputs": [],
   "source": [
    "plt.figure(1, figsize=(20, 7))\n",
    "plt.plot(degree_keys_web[degree_keys_web > x_min_web], cdf_empirical(degree_vcounts_web[degree_keys_web > x_min_web]),'g', label='Empirical')\n",
    "plt.plot(degree_keys_web[degree_keys_web > x_min_web], cdf_powerlaw(degree_keys_web[degree_keys_web > x_min_web], x_min_web, alpha_ks_web), 'b', label='Power law')\n",
    "\n",
    "plt.ylabel(\"CDF\")\n",
    "plt.xlabel(\"Degree\")\n",
    "plt.legend()\n",
    "plt.title('Routing Graph CDF')\n",
    "plt.show()"
   ]
  },
  {
   "cell_type": "code",
   "execution_count": null,
   "metadata": {},
   "outputs": [],
   "source": [
    "def graph_cdf(degree_vcounts, xmin, alpha):\n",
    "    plt.plot(degree_vcounts[degree_vcounts > xmin], cdf_powerlaw(degree_vcounts[degree_vcounts > xmin], xmin, alpha))\n",
    "\n",
    "def graph_pdf(degree_vcounts, xmin, alpha):\n",
    "    plt.plot(degree_vcounts[degree_vcounts > xmin], pdf_powerlaw(degree_vcounts[degree_vcounts > xmin], xmin, alpha))\n",
    "\n",
    "plt.title('CDF Routing network')\n",
    "graph_cdf(degree_keys_rn, x_min_rn, alpha_ks_rn)\n",
    "plt.show()\n",
    "plt.title('PDF Routing network')\n",
    "graph_pdf(degree_keys_rn, x_min_rn, alpha_ks_rn)\n",
    "plt.show()"
   ]
  },
  {
   "cell_type": "code",
   "execution_count": null,
   "metadata": {},
   "outputs": [],
   "source": [
    "plt.title('CDF Web graph')\n",
    "graph_cdf(degree_keys_web, x_min_web, alpha_ks_web)\n",
    "plt.show()\n",
    "plt.title('PDF Web graph')\n",
    "graph_pdf(degree_keys_web, x_min_web, alpha_ks_web)\n",
    "plt.show()"
   ]
  },
  {
   "cell_type": "code",
   "execution_count": null,
   "metadata": {},
   "outputs": [],
   "source": [
    "def describe(graph):\n",
    "    clustering_coefficient = np.mean(graph.degree().values())/len(graph.nodes())\n",
    "    \n",
    "    if graph.is_directed():\n",
    "        sc_components = sorted(nx.strongly_connected_components(graph), key = len, reverse=True)\n",
    "        print 'Number of strongly connected components:', len(sc_components)\n",
    "    else:\n",
    "        components = sorted(nx.connected_components(graph), key = len, reverse=True)\n",
    "        print 'Number of connected components:', len(components)\n",
    "        \n",
    "        average_shortest_path_length = nx.average_shortest_path_length(graph)\n",
    "        print 'Average shortest path length', round(average_shortest_path_length, 5)\n",
    "        \n",
    "    transitivity = nx.transitivity(graph)\n",
    "    density = nx.density(graph)\n",
    "\n",
    "    print 'Clustering coefficient', round(clustering_coefficient, 5)\n",
    "    print 'Transitivity coefficient', round(transitivity, 5)\n",
    "    print 'Density', round(density, 5)"
   ]
  },
  {
   "cell_type": "code",
   "execution_count": null,
   "metadata": {},
   "outputs": [],
   "source": [
    "print 'Web graph descriptive statistics'\n",
    "describe(graph_web)"
   ]
  },
  {
   "cell_type": "code",
   "execution_count": null,
   "metadata": {},
   "outputs": [],
   "source": [
    "print 'Fit Erdos graph'\n",
    "n_nodes = len(graph_web.nodes())\n",
    "n_edges = len(graph_web.edges())\n",
    "\n",
    "random_graph = nx.gnm_random_graph(n_nodes, n_edges, directed=True)"
   ]
  },
  {
   "cell_type": "code",
   "execution_count": null,
   "metadata": {},
   "outputs": [],
   "source": [
    "print 'Generated graph descriptive statistics'\n",
    "describe(random_graph)"
   ]
  },
  {
   "cell_type": "markdown",
   "metadata": {},
   "source": [
    "We can observe a drastic difference in transitivity: Web Graph has a much higher transitivity."
   ]
  }
 ],
 "metadata": {
  "kernelspec": {
   "display_name": "Python 2",
   "language": "python",
   "name": "python2"
  },
  "language_info": {
   "codemirror_mode": {
    "name": "ipython",
    "version": 2
   },
   "file_extension": ".py",
   "mimetype": "text/x-python",
   "name": "python",
   "nbconvert_exporter": "python",
   "pygments_lexer": "ipython2",
   "version": "2.7.15"
  }
 },
 "nbformat": 4,
 "nbformat_minor": 1
}
